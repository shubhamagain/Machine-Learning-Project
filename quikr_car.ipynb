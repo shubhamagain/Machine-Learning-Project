{
 "cells": [
  {
   "cell_type": "code",
   "execution_count": 1,
   "id": "14c3a125",
   "metadata": {},
   "outputs": [],
   "source": [
    "import pandas as pd\n",
    "import numpy as np\n",
    "import matplotlib.pyplot as plt\n",
    "\n",
    "from sklearn.model_selection import train_test_split\n",
    "from sklearn.linear_model import LinearRegression\n",
    "from sklearn.metrics import r2_score\n",
    "from sklearn.preprocessing import OneHotEncoder\n",
    "from sklearn.compose import make_column_transformer\n",
    "from sklearn.pipeline import make_pipeline"
   ]
  },
  {
   "cell_type": "code",
   "execution_count": 2,
   "id": "6dc82c0f",
   "metadata": {},
   "outputs": [],
   "source": [
    "df=pd.read_csv('quikr_car - quikr_car.csv')"
   ]
  },
  {
   "cell_type": "code",
   "execution_count": 3,
   "id": "e6cfeca1",
   "metadata": {},
   "outputs": [
    {
     "data": {
      "text/html": [
       "<div>\n",
       "<style scoped>\n",
       "    .dataframe tbody tr th:only-of-type {\n",
       "        vertical-align: middle;\n",
       "    }\n",
       "\n",
       "    .dataframe tbody tr th {\n",
       "        vertical-align: top;\n",
       "    }\n",
       "\n",
       "    .dataframe thead th {\n",
       "        text-align: right;\n",
       "    }\n",
       "</style>\n",
       "<table border=\"1\" class=\"dataframe\">\n",
       "  <thead>\n",
       "    <tr style=\"text-align: right;\">\n",
       "      <th></th>\n",
       "      <th>name</th>\n",
       "      <th>company</th>\n",
       "      <th>year</th>\n",
       "      <th>Price</th>\n",
       "      <th>kms_driven</th>\n",
       "      <th>fuel_type</th>\n",
       "    </tr>\n",
       "  </thead>\n",
       "  <tbody>\n",
       "    <tr>\n",
       "      <th>0</th>\n",
       "      <td>Hyundai Santro Xing XO eRLX Euro III</td>\n",
       "      <td>Hyundai</td>\n",
       "      <td>2007</td>\n",
       "      <td>80,000</td>\n",
       "      <td>45,000 kms</td>\n",
       "      <td>Petrol</td>\n",
       "    </tr>\n",
       "    <tr>\n",
       "      <th>1</th>\n",
       "      <td>Mahindra Jeep CL550 MDI</td>\n",
       "      <td>Mahindra</td>\n",
       "      <td>2006</td>\n",
       "      <td>4,25,000</td>\n",
       "      <td>40 kms</td>\n",
       "      <td>Diesel</td>\n",
       "    </tr>\n",
       "    <tr>\n",
       "      <th>2</th>\n",
       "      <td>Maruti Suzuki Alto 800 Vxi</td>\n",
       "      <td>Maruti</td>\n",
       "      <td>2018</td>\n",
       "      <td>Ask For Price</td>\n",
       "      <td>22,000 kms</td>\n",
       "      <td>Petrol</td>\n",
       "    </tr>\n",
       "    <tr>\n",
       "      <th>3</th>\n",
       "      <td>Hyundai Grand i10 Magna 1.2 Kappa VTVT</td>\n",
       "      <td>Hyundai</td>\n",
       "      <td>2014</td>\n",
       "      <td>3,25,000</td>\n",
       "      <td>28,000 kms</td>\n",
       "      <td>Petrol</td>\n",
       "    </tr>\n",
       "    <tr>\n",
       "      <th>4</th>\n",
       "      <td>Ford EcoSport Titanium 1.5L TDCi</td>\n",
       "      <td>Ford</td>\n",
       "      <td>2014</td>\n",
       "      <td>5,75,000</td>\n",
       "      <td>36,000 kms</td>\n",
       "      <td>Diesel</td>\n",
       "    </tr>\n",
       "  </tbody>\n",
       "</table>\n",
       "</div>"
      ],
      "text/plain": [
       "                                     name   company  year          Price  \\\n",
       "0    Hyundai Santro Xing XO eRLX Euro III   Hyundai  2007         80,000   \n",
       "1                 Mahindra Jeep CL550 MDI  Mahindra  2006       4,25,000   \n",
       "2              Maruti Suzuki Alto 800 Vxi    Maruti  2018  Ask For Price   \n",
       "3  Hyundai Grand i10 Magna 1.2 Kappa VTVT   Hyundai  2014       3,25,000   \n",
       "4        Ford EcoSport Titanium 1.5L TDCi      Ford  2014       5,75,000   \n",
       "\n",
       "   kms_driven fuel_type  \n",
       "0  45,000 kms    Petrol  \n",
       "1      40 kms    Diesel  \n",
       "2  22,000 kms    Petrol  \n",
       "3  28,000 kms    Petrol  \n",
       "4  36,000 kms    Diesel  "
      ]
     },
     "execution_count": 3,
     "metadata": {},
     "output_type": "execute_result"
    }
   ],
   "source": [
    "df.head()"
   ]
  },
  {
   "cell_type": "code",
   "execution_count": 4,
   "id": "dd403c0e",
   "metadata": {},
   "outputs": [
    {
     "data": {
      "text/plain": [
       "(892, 6)"
      ]
     },
     "execution_count": 4,
     "metadata": {},
     "output_type": "execute_result"
    }
   ],
   "source": [
    "df.shape"
   ]
  },
  {
   "cell_type": "code",
   "execution_count": 5,
   "id": "6963fa9d",
   "metadata": {},
   "outputs": [
    {
     "data": {
      "text/plain": [
       "name           0\n",
       "company        0\n",
       "year           0\n",
       "Price          0\n",
       "kms_driven    52\n",
       "fuel_type     55\n",
       "dtype: int64"
      ]
     },
     "execution_count": 5,
     "metadata": {},
     "output_type": "execute_result"
    }
   ],
   "source": [
    "df.isnull().sum()"
   ]
  },
  {
   "cell_type": "code",
   "execution_count": 6,
   "id": "a7aee1c5",
   "metadata": {},
   "outputs": [
    {
     "name": "stdout",
     "output_type": "stream",
     "text": [
      "<class 'pandas.core.frame.DataFrame'>\n",
      "RangeIndex: 892 entries, 0 to 891\n",
      "Data columns (total 6 columns):\n",
      " #   Column      Non-Null Count  Dtype \n",
      "---  ------      --------------  ----- \n",
      " 0   name        892 non-null    object\n",
      " 1   company     892 non-null    object\n",
      " 2   year        892 non-null    object\n",
      " 3   Price       892 non-null    object\n",
      " 4   kms_driven  840 non-null    object\n",
      " 5   fuel_type   837 non-null    object\n",
      "dtypes: object(6)\n",
      "memory usage: 41.9+ KB\n"
     ]
    }
   ],
   "source": [
    "df.info()"
   ]
  },
  {
   "cell_type": "code",
   "execution_count": 7,
   "id": "8d7a54c4",
   "metadata": {},
   "outputs": [],
   "source": [
    "df=df.drop_duplicates()"
   ]
  },
  {
   "cell_type": "code",
   "execution_count": 8,
   "id": "353c46eb",
   "metadata": {},
   "outputs": [],
   "source": [
    "df.name=df.name.str.split(' ').str.slice(0,3).str.join(' ')"
   ]
  },
  {
   "cell_type": "code",
   "execution_count": 9,
   "id": "ea061bc0",
   "metadata": {},
   "outputs": [
    {
     "data": {
      "text/plain": [
       "0         Hyundai Santro Xing\n",
       "1         Mahindra Jeep CL550\n",
       "2          Maruti Suzuki Alto\n",
       "3           Hyundai Grand i10\n",
       "4      Ford EcoSport Titanium\n",
       "                ...          \n",
       "887                        Ta\n",
       "888              Tata Zest XM\n",
       "889        Mahindra Quanto C8\n",
       "890           Honda Amaze 1.2\n",
       "891        Chevrolet Sail 1.2\n",
       "Name: name, Length: 798, dtype: object"
      ]
     },
     "execution_count": 9,
     "metadata": {},
     "output_type": "execute_result"
    }
   ],
   "source": [
    "df.name"
   ]
  },
  {
   "cell_type": "code",
   "execution_count": 10,
   "id": "93118f33",
   "metadata": {},
   "outputs": [
    {
     "data": {
      "text/plain": [
       "array(['2007', '2006', '2018', '2014', '2015', '2012', '2013', '2016',\n",
       "       '2010', '2017', '2008', '2011', '2019', '2009', '2005', '2000',\n",
       "       '...', '150k', 'TOUR', '2003', 'r 15', '2004', 'Zest', '/-Rs',\n",
       "       'sale', '1995', 'ara)', '2002', 'SELL', '2001', 'tion', 'odel',\n",
       "       '2 bs', 'arry', 'Eon', 'o...', 'ture', 'emi', 'car', 'able', 'no.',\n",
       "       'd...', 'SALE', 'digo', 'sell', 'd Ex', 'n...', 'e...', 'D...',\n",
       "       ', Ac', 'go .', 'k...', 'o c4', 'zire', 'cent', 'Sumo', 'cab',\n",
       "       't xe', 'EV2', 'r...', 'zest'], dtype=object)"
      ]
     },
     "execution_count": 10,
     "metadata": {},
     "output_type": "execute_result"
    }
   ],
   "source": [
    "df['year'].unique()"
   ]
  },
  {
   "cell_type": "code",
   "execution_count": 11,
   "id": "e2888073",
   "metadata": {},
   "outputs": [
    {
     "data": {
      "text/plain": [
       "array(['2007', '2006', '2018', '2014', '2015', '2012', '2013', '2016',\n",
       "       '2010', '2017', '2008', '2011', '2019', '2009', '2005', '2000',\n",
       "       '2003', '2004', '1995', '2002', '2001'], dtype=object)"
      ]
     },
     "execution_count": 11,
     "metadata": {},
     "output_type": "execute_result"
    }
   ],
   "source": [
    "df=df[df['year'].str.isnumeric()]\n",
    "df.year.unique()"
   ]
  },
  {
   "cell_type": "code",
   "execution_count": 12,
   "id": "d033198e",
   "metadata": {},
   "outputs": [],
   "source": [
    "df['year']=df['year'].astype(int)"
   ]
  },
  {
   "cell_type": "code",
   "execution_count": 13,
   "id": "2f210207",
   "metadata": {},
   "outputs": [],
   "source": [
    "df['year']=2022-df['year']"
   ]
  },
  {
   "cell_type": "code",
   "execution_count": 14,
   "id": "5ae5cbac",
   "metadata": {},
   "outputs": [
    {
     "data": {
      "text/html": [
       "<div>\n",
       "<style scoped>\n",
       "    .dataframe tbody tr th:only-of-type {\n",
       "        vertical-align: middle;\n",
       "    }\n",
       "\n",
       "    .dataframe tbody tr th {\n",
       "        vertical-align: top;\n",
       "    }\n",
       "\n",
       "    .dataframe thead th {\n",
       "        text-align: right;\n",
       "    }\n",
       "</style>\n",
       "<table border=\"1\" class=\"dataframe\">\n",
       "  <thead>\n",
       "    <tr style=\"text-align: right;\">\n",
       "      <th></th>\n",
       "      <th>name</th>\n",
       "      <th>company</th>\n",
       "      <th>year</th>\n",
       "      <th>Price</th>\n",
       "      <th>kms_driven</th>\n",
       "      <th>fuel_type</th>\n",
       "    </tr>\n",
       "  </thead>\n",
       "  <tbody>\n",
       "  </tbody>\n",
       "</table>\n",
       "</div>"
      ],
      "text/plain": [
       "Empty DataFrame\n",
       "Columns: [name, company, year, Price, kms_driven, fuel_type]\n",
       "Index: []"
      ]
     },
     "execution_count": 14,
     "metadata": {},
     "output_type": "execute_result"
    }
   ],
   "source": [
    "df[df['year']<0]"
   ]
  },
  {
   "cell_type": "code",
   "execution_count": 15,
   "id": "2b51e1bd",
   "metadata": {},
   "outputs": [
    {
     "name": "stdout",
     "output_type": "stream",
     "text": [
      "['Ask For Price', 'Ask For Price', 'Ask For Price', 'Ask For Price', 'Ask For Price', 'Ask For Price', 'Ask For Price', 'Ask For Price', 'Ask For Price', 'Ask For Price', 'Ask For Price', 'Ask For Price', 'Ask For Price', 'Ask For Price', 'Ask For Price', 'Ask For Price', 'Ask For Price', 'Ask For Price', 'Ask For Price', 'Ask For Price', 'Ask For Price', 'Ask For Price']\n"
     ]
    },
    {
     "data": {
      "text/plain": [
       "(749, 6)"
      ]
     },
     "execution_count": 15,
     "metadata": {},
     "output_type": "execute_result"
    }
   ],
   "source": [
    "import re\n",
    "d=[]\n",
    "for i in df.Price:\n",
    "    if re.findall(\"[a-zA-Z.]\",i):\n",
    "        d.append(i)\n",
    "print(d)\n",
    "df.shape"
   ]
  },
  {
   "cell_type": "code",
   "execution_count": 16,
   "id": "43b3dc41",
   "metadata": {},
   "outputs": [],
   "source": [
    "df= df.drop(df[df.Price=='Ask For Price'].index)"
   ]
  },
  {
   "cell_type": "code",
   "execution_count": null,
   "id": "091a1046",
   "metadata": {},
   "outputs": [],
   "source": []
  },
  {
   "cell_type": "code",
   "execution_count": 17,
   "id": "b046ae65",
   "metadata": {},
   "outputs": [
    {
     "data": {
      "text/plain": [
       "0       80000\n",
       "1      425000\n",
       "3      325000\n",
       "4      575000\n",
       "6      175000\n",
       "        ...  \n",
       "886    300000\n",
       "888    260000\n",
       "889    390000\n",
       "890    180000\n",
       "891    160000\n",
       "Name: Price, Length: 727, dtype: int32"
      ]
     },
     "execution_count": 17,
     "metadata": {},
     "output_type": "execute_result"
    }
   ],
   "source": [
    "df.Price = df.Price[df.Price.notnull()].apply(lambda x: x.replace(',', '')).astype('int')\n",
    "df.Price"
   ]
  },
  {
   "cell_type": "code",
   "execution_count": 18,
   "id": "14bbd789",
   "metadata": {},
   "outputs": [
    {
     "data": {
      "text/plain": [
       "(727, 6)"
      ]
     },
     "execution_count": 18,
     "metadata": {},
     "output_type": "execute_result"
    }
   ],
   "source": [
    "df.shape"
   ]
  },
  {
   "cell_type": "code",
   "execution_count": 19,
   "id": "a8f967f9",
   "metadata": {},
   "outputs": [],
   "source": [
    "df.kms_driven=df.kms_driven.replace(' km', '')"
   ]
  },
  {
   "cell_type": "code",
   "execution_count": 20,
   "id": "23e715c8",
   "metadata": {},
   "outputs": [
    {
     "name": "stdout",
     "output_type": "stream",
     "text": [
      "<class 'pandas.core.series.Series'>\n",
      "Int64Index: 727 entries, 0 to 891\n",
      "Series name: kms_driven\n",
      "Non-Null Count  Dtype \n",
      "--------------  ----- \n",
      "727 non-null    object\n",
      "dtypes: object(1)\n",
      "memory usage: 11.4+ KB\n"
     ]
    }
   ],
   "source": [
    "df.kms_driven.info()"
   ]
  },
  {
   "cell_type": "code",
   "execution_count": 21,
   "id": "66adbe21",
   "metadata": {},
   "outputs": [
    {
     "data": {
      "text/plain": [
       "array(['45,000 kms', '40 kms', '28,000 kms', '36,000 kms', '41,000 kms',\n",
       "       '25,000 kms', '24,530 kms', '60,000 kms', '30,000 kms',\n",
       "       '32,000 kms', '48,660 kms', '4,000 kms', '16,934 kms',\n",
       "       '43,000 kms', '35,550 kms', '39,522 kms', '39,000 kms',\n",
       "       '55,000 kms', '72,000 kms', '15,975 kms', '70,000 kms',\n",
       "       '23,452 kms', '35,522 kms', '48,508 kms', '15,487 kms',\n",
       "       '82,000 kms', '20,000 kms', '68,000 kms', '38,000 kms',\n",
       "       '27,000 kms', '33,000 kms', '46,000 kms', '16,000 kms',\n",
       "       '47,000 kms', '35,000 kms', '30,874 kms', '15,000 kms',\n",
       "       '29,685 kms', '1,30,000 kms', '19,000 kms', '54,000 kms',\n",
       "       '13,000 kms', '38,200 kms', '22,000 kms', '50,000 kms',\n",
       "       '13,500 kms', '3,600 kms', '45,863 kms', '60,500 kms',\n",
       "       '12,500 kms', '18,000 kms', '13,349 kms', '29,000 kms',\n",
       "       '44,000 kms', '42,000 kms', '14,000 kms', '49,000 kms',\n",
       "       '36,200 kms', '51,000 kms', '1,04,000 kms', '33,333 kms',\n",
       "       '33,600 kms', '5,600 kms', '7,500 kms', '26,000 kms', '24,330 kms',\n",
       "       '65,480 kms', '2,00,000 kms', '59,000 kms', '99,000 kms',\n",
       "       '2,800 kms', '21,000 kms', '11,000 kms', '66,000 kms', '3,000 kms',\n",
       "       '7,000 kms', '38,500 kms', '37,200 kms', '43,200 kms',\n",
       "       '24,800 kms', '45,872 kms', '40,000 kms', '11,400 kms',\n",
       "       '97,200 kms', '52,000 kms', '31,000 kms', '1,75,430 kms',\n",
       "       '37,000 kms', '65,000 kms', '3,350 kms', '75,000 kms',\n",
       "       '62,000 kms', '73,000 kms', '2,200 kms', '54,870 kms',\n",
       "       '34,580 kms', '97,000 kms', '60 kms', '80,200 kms', '3,200 kms',\n",
       "       '0,000 kms', '5,000 kms', '588 kms', '71,200 kms', '1,75,400 kms',\n",
       "       '9,300 kms', '56,758 kms', '10,000 kms', '56,450 kms',\n",
       "       '56,000 kms', '32,700 kms', '9,000 kms', '73 kms', '1,60,000 kms',\n",
       "       '58,559 kms', '57,000 kms', '1,70,000 kms', '80,000 kms',\n",
       "       '6,821 kms', '23,000 kms', '34,000 kms', '1,800 kms',\n",
       "       '4,00,000 kms', '48,000 kms', '90,000 kms', '12,000 kms',\n",
       "       '69,900 kms', '1,66,000 kms', '122 kms', '0 kms', '36,469 kms',\n",
       "       '7,800 kms', '24,695 kms', '15,141 kms', '59,910 kms',\n",
       "       '1,00,000 kms', '4,500 kms', '1,29,000 kms', '300 kms',\n",
       "       '1,31,000 kms', '1,11,111 kms', '59,466 kms', '25,500 kms',\n",
       "       '44,005 kms', '2,110 kms', '43,222 kms', '1,00,200 kms', '65 kms',\n",
       "       '1,40,000 kms', '1,03,553 kms', '58,000 kms', '1,20,000 kms',\n",
       "       '49,800 kms', '100 kms', '81,876 kms', '6,020 kms', '55,700 kms',\n",
       "       '18,500 kms', '53,000 kms', '35,500 kms', '22,134 kms',\n",
       "       '1,000 kms', '8,500 kms', '87,000 kms', '6,000 kms', '8,000 kms',\n",
       "       '55,800 kms', '56,400 kms', '72,160 kms', '11,500 kms',\n",
       "       '1,33,000 kms', '2,000 kms', '88,000 kms', '65,422 kms',\n",
       "       '1,17,000 kms', '1,50,000 kms', '10,750 kms', '6,800 kms',\n",
       "       '9,800 kms', '57,923 kms', '30,201 kms', '6,200 kms', '37,518 kms',\n",
       "       '24,652 kms', '383 kms', '95,000 kms', '3,528 kms', '52,500 kms',\n",
       "       '47,900 kms', '52,800 kms', '1,95,000 kms', '48,008 kms',\n",
       "       '48,247 kms', '9,400 kms', '64,000 kms', '2,137 kms', '10,544 kms',\n",
       "       '1,47,000 kms', '90,001 kms', '48,006 kms', '74,000 kms',\n",
       "       '85,000 kms', '29,500 kms', '39,700 kms', '67,000 kms',\n",
       "       '19,336 kms', '60,105 kms', '45,933 kms', '1,02,563 kms',\n",
       "       '28,600 kms', '41,800 kms', '1,16,000 kms', '42,590 kms',\n",
       "       '7,400 kms', '54,500 kms', '76,000 kms', '00 kms', '11,523 kms',\n",
       "       '38,600 kms', '95,500 kms', '37,458 kms', '85,960 kms',\n",
       "       '12,516 kms', '30,600 kms', '2,550 kms', '62,500 kms',\n",
       "       '69,000 kms', '28,400 kms', '68,485 kms', '3,500 kms',\n",
       "       '85,455 kms', '63,000 kms', '1,600 kms', '77,000 kms',\n",
       "       '26,500 kms', '2,875 kms', '13,900 kms', '1,500 kms', '2,450 kms',\n",
       "       '1,625 kms', '33,400 kms', '60,123 kms', '1,37,495 kms',\n",
       "       '91,200 kms', '1,46,000 kms', '1,00,800 kms', '2,100 kms',\n",
       "       '2,500 kms', '1,32,000 kms', 'Petrol'], dtype=object)"
      ]
     },
     "execution_count": 21,
     "metadata": {},
     "output_type": "execute_result"
    }
   ],
   "source": [
    "df.kms_driven.unique()\n"
   ]
  },
  {
   "cell_type": "code",
   "execution_count": 22,
   "id": "6b14fa55",
   "metadata": {},
   "outputs": [
    {
     "name": "stdout",
     "output_type": "stream",
     "text": [
      "['45,000 kms', '40 kms', '28,000 kms', '36,000 kms', '41,000 kms', '25,000 kms', '24,530 kms', '60,000 kms', '60,000 kms', '30,000 kms', '32,000 kms', '48,660 kms', '4,000 kms', '16,934 kms', '43,000 kms', '35,550 kms', '39,522 kms', '39,000 kms', '55,000 kms', '72,000 kms', '15,975 kms', '70,000 kms', '23,452 kms', '35,522 kms', '48,508 kms', '15,487 kms', '39,000 kms', '39,000 kms', '82,000 kms', '20,000 kms', '68,000 kms', '32,000 kms', '38,000 kms', '27,000 kms', '33,000 kms', '46,000 kms', '46,000 kms', '36,000 kms', '55,000 kms', '16,000 kms', '36,000 kms', '47,000 kms', '35,000 kms', '30,874 kms', '15,000 kms', '29,685 kms', '1,30,000 kms', '19,000 kms', '60,000 kms', '41,000 kms', '35,000 kms', '54,000 kms', '13,000 kms', '38,200 kms', '22,000 kms', '50,000 kms', '13,500 kms', '30,000 kms', '50,000 kms', '20,000 kms', '39,000 kms', '30,000 kms', '3,600 kms', '32,000 kms', '38,000 kms', '45,000 kms', '35,000 kms', '50,000 kms', '45,863 kms', '60,500 kms', '12,500 kms', '60,000 kms', '35,000 kms', '35,000 kms', '45,000 kms', '35,000 kms', '38,000 kms', '18,000 kms', '35,000 kms', '13,349 kms', '29,000 kms', '44,000 kms', '29,000 kms', '42,000 kms', '14,000 kms', '49,000 kms', '42,000 kms', '36,200 kms', '50,000 kms', '55,000 kms', '45,000 kms', '51,000 kms', '19,000 kms', '46,000 kms', '33,000 kms', '1,04,000 kms', '55,000 kms', '33,333 kms', '33,600 kms', '5,600 kms', '41,000 kms', '70,000 kms', '7,500 kms', '45,000 kms', '38,000 kms', '30,000 kms', '26,000 kms', '35,000 kms', '24,330 kms', '65,480 kms', '41,000 kms', '20,000 kms', '2,00,000 kms', '70,000 kms', '59,000 kms', '99,000 kms', '46,000 kms', '2,800 kms', '32,000 kms', '22,000 kms', '45,000 kms', '21,000 kms', '11,000 kms', '41,000 kms', '50,000 kms', '66,000 kms', '3,000 kms', '45,000 kms', '7,000 kms', '38,500 kms', '37,200 kms', '43,200 kms', '24,800 kms', '60,000 kms', '45,872 kms', '40,000 kms', '45,000 kms', '38,000 kms', '11,400 kms', '42,000 kms', '39,000 kms', '47,000 kms', '27,000 kms', '97,200 kms', '52,000 kms', '55,000 kms', '30,000 kms', '44,000 kms', '45,000 kms', '31,000 kms', '1,75,430 kms', '38,000 kms', '37,000 kms', '65,000 kms', '7,500 kms', '3,350 kms', '60,000 kms', '32,000 kms', '75,000 kms', '62,000 kms', '73,000 kms', '41,000 kms', '35,000 kms', '2,200 kms', '39,000 kms', '45,000 kms', '45,000 kms', '65,000 kms', '54,870 kms', '34,580 kms', '97,000 kms', '25,000 kms', '20,000 kms', '18,000 kms', '35,000 kms', '60 kms', '80,200 kms', '3,200 kms', '46,000 kms', '0,000 kms', '5,000 kms', '588 kms', '36,000 kms', '38,000 kms', '45,000 kms', '71,200 kms', '52,000 kms', '29,000 kms', '47,000 kms', '20,000 kms', '30,000 kms', '5,000 kms', '35,000 kms', '31,000 kms', '7,000 kms', '1,75,400 kms', '41,000 kms', '33,000 kms', '45,000 kms', '39,000 kms', '30,000 kms', '37,000 kms', '13,000 kms', '14,000 kms', '55,000 kms', '30,000 kms', '50,000 kms', '45,000 kms', '45,000 kms', '9,300 kms', '55,000 kms', '22,000 kms', '60,000 kms', '59,000 kms', '19,000 kms', '30,000 kms', '15,000 kms', '56,758 kms', '10,000 kms', '49,000 kms', '41,000 kms', '45,000 kms', '43,000 kms', '56,450 kms', '56,000 kms', '32,700 kms', '30,000 kms', '56,000 kms', '9,000 kms', '11,000 kms', '46,000 kms', '73 kms', '1,60,000 kms', '58,559 kms', '57,000 kms', '50,000 kms', '37,000 kms', '40,000 kms', '55,000 kms', '1,70,000 kms', '55,000 kms', '39,000 kms', '44,000 kms', '65,000 kms', '39,000 kms', '44,000 kms', '49,000 kms', '9,000 kms', '45,000 kms', '47,000 kms', '40,000 kms', '29,000 kms', '15,000 kms', '45,000 kms', '35,000 kms', '80,000 kms', '68,000 kms', '50,000 kms', '60,000 kms', '9,000 kms', '72,000 kms', '60,000 kms', '45,000 kms', '40,000 kms', '20,000 kms', '35,000 kms', '20,000 kms', '6,821 kms', '23,000 kms', '14,000 kms', '38,000 kms', '35,000 kms', '22,000 kms', '41,000 kms', '45,000 kms', '44,000 kms', '45,000 kms', '52,000 kms', '34,000 kms', '1,800 kms', '15,000 kms', '4,00,000 kms', '44,000 kms', '72,000 kms', '40,000 kms', '48,000 kms', '90,000 kms', '12,000 kms', '69,900 kms', '45,000 kms', '1,66,000 kms', '42,000 kms', '122 kms', '62,000 kms', '70,000 kms', '36,000 kms', '0 kms', '55,000 kms', '55,000 kms', '20,000 kms', '40,000 kms', '50,000 kms', '1,04,000 kms', '65,000 kms', '41,000 kms', '90,000 kms', '80,000 kms', '46,000 kms', '70,000 kms', '36,469 kms', '7,800 kms', '60,000 kms', '32,000 kms', '24,695 kms', '15,141 kms', '40,000 kms', '65,000 kms', '22,000 kms', '59,910 kms', '1,00,000 kms', '25,000 kms', '35,000 kms', '65,000 kms', '35,000 kms', '33,000 kms', '68,000 kms', '23,000 kms', '4,500 kms', '1,29,000 kms', '300 kms', '5,000 kms', '65,000 kms', '1,31,000 kms', '1,11,111 kms', '14,000 kms', '22,000 kms', '38,000 kms', '70,000 kms', '36,000 kms', '34,000 kms', '43,000 kms', '40,000 kms', '1,60,000 kms', '12,000 kms', '49,000 kms', '68,000 kms', '37,000 kms', '59,466 kms', '99,000 kms', '25,500 kms', '66,000 kms', '44,005 kms', '35,000 kms', '28,000 kms', '30,000 kms', '4,000 kms', '28,000 kms', '75,000 kms', '3,000 kms', '20,000 kms', '50,000 kms', '2,110 kms', '43,222 kms', '1,00,200 kms', '1,00,000 kms', '65 kms', '1,00,000 kms', '1,40,000 kms', '48,000 kms', '22,000 kms', '1,03,553 kms', '80,000 kms', '99,000 kms', '58,000 kms', '70,000 kms', '1,20,000 kms', '49,800 kms', '100 kms', '81,876 kms', '75,000 kms', '44,000 kms', '55,000 kms', '36,000 kms', '56,000 kms', '62,000 kms', '6,020 kms', '55,700 kms', '42,000 kms', '50,000 kms', '35,000 kms', '18,500 kms', '7,000 kms', '11,000 kms', '53,000 kms', '23,000 kms', '35,500 kms', '22,134 kms', '1,000 kms', '9,000 kms', '8,500 kms', '35,000 kms', '22,000 kms', '25,000 kms', '40,000 kms', '20,000 kms', '87,000 kms', '55,000 kms', '23,000 kms', '6,000 kms', '65,000 kms', '25,000 kms', '39,000 kms', '8,000 kms', '75,000 kms', '51,000 kms', '50,000 kms', '75,000 kms', '55,800 kms', '53,000 kms', '25,000 kms', '56,400 kms', '72,160 kms', '10,000 kms', '48,000 kms', '36,000 kms', '11,500 kms', '1,33,000 kms', '27,000 kms', '35,000 kms', '55,000 kms', '40,000 kms', '2,000 kms', '45,000 kms', '20,000 kms', '88,000 kms', '20,000 kms', '65,422 kms', '10,000 kms', '35,000 kms', '1,17,000 kms', '1,50,000 kms', '72,000 kms', '10,750 kms', '55,000 kms', '6,800 kms', '41,000 kms', '73,000 kms', '65,000 kms', '45,000 kms', '40,000 kms', '37,000 kms', '55,000 kms', '1,40,000 kms', '9,800 kms', '27,000 kms', '27,000 kms', '20,000 kms', '57,923 kms', '30,201 kms', '6,200 kms', '37,518 kms', '24,652 kms', '383 kms', '95,000 kms', '35,000 kms', '3,528 kms', '52,500 kms', '47,900 kms', '14,000 kms', '37,000 kms', '90,000 kms', '52,800 kms', '1,04,000 kms', '30,000 kms', '1,95,000 kms', '1,04,000 kms', '1,04,000 kms', '70,000 kms', '43,000 kms', '23,000 kms', '51,000 kms', '62,000 kms', '48,008 kms', '39,000 kms', '40,000 kms', '48,247 kms', '39,000 kms', '23,000 kms', '9,400 kms', '50,000 kms', '75,000 kms', '70,000 kms', '64,000 kms', '55,000 kms', '2,00,000 kms', '2,137 kms', '30,000 kms', '44,000 kms', '65,000 kms', '1,60,000 kms', '56,000 kms', '75,000 kms', '42,000 kms', '56,000 kms', '10,544 kms', '64,000 kms', '70,000 kms', '25,000 kms', '15,000 kms', '50,000 kms', '1,47,000 kms', '52,000 kms', '90,001 kms', '21,000 kms', '48,006 kms', '48,006 kms', '80,000 kms', '74,000 kms', '22,000 kms', '41,000 kms', '25,000 kms', '85,000 kms', '29,500 kms', '30,000 kms', '57,000 kms', '60,000 kms', '50,000 kms', '39,700 kms', '65,000 kms', '67,000 kms', '46,000 kms', '38,000 kms', '27,000 kms', '43,000 kms', '47,000 kms', '42,000 kms', '19,336 kms', '60,105 kms', '29,000 kms', '34,000 kms', '35,000 kms', '22,000 kms', '41,000 kms', '21,000 kms', '48,000 kms', '38,000 kms', '34,000 kms', '45,933 kms', '68,000 kms', '44,000 kms', '35,000 kms', '1,02,563 kms', '28,600 kms', '41,800 kms', '1,16,000 kms', '59,000 kms', '58,000 kms', '45,000 kms', '42,590 kms', '7,400 kms', '54,500 kms', '2,00,000 kms', '27,000 kms', '42,000 kms', '29,000 kms', '37,000 kms', '36,000 kms', '34,000 kms', '7,000 kms', '76,000 kms', '60,000 kms', '95,000 kms', '50,000 kms', '00 kms', '50,000 kms', '68,000 kms', '16,000 kms', '51,000 kms', '56,000 kms', '1,00,000 kms', '36,000 kms', '11,523 kms', '1,000 kms', '60,000 kms', '85,000 kms', '38,600 kms', '95,500 kms', '56,000 kms', '37,458 kms', '85,960 kms', '12,516 kms', '35,000 kms', '00 kms', '80,000 kms', '45,000 kms', '51,000 kms', '48,000 kms', '51,000 kms', '90,000 kms', '43,000 kms', '53,000 kms', '97,000 kms', '20,000 kms', '55,000 kms', '1,20,000 kms', '0 kms', '46,000 kms', '43,200 kms', '56,000 kms', '42,000 kms', '30,600 kms', '38,000 kms', '2,550 kms', '47,000 kms', '41,000 kms', '62,500 kms', '68,000 kms', '50,000 kms', '69,000 kms', '48,000 kms', '55,000 kms', '25,000 kms', '28,400 kms', '28,000 kms', '42,000 kms', '29,000 kms', '68,485 kms', '3,500 kms', '0 kms', '32,000 kms', '8,000 kms', '34,000 kms', '37,000 kms', '85,455 kms', '46,000 kms', '47,000 kms', '64,000 kms', '46,000 kms', '8,000 kms', '64,000 kms', '63,000 kms', '65,000 kms', '62,000 kms', '41,000 kms', '14,000 kms', '40,000 kms', '1,600 kms', '90,000 kms', '58,000 kms', '27,000 kms', '60,000 kms', '31,000 kms', '90,000 kms', '90,000 kms', '1,50,000 kms', '31,000 kms', '43,000 kms', '20,000 kms', '1,00,000 kms', '7,000 kms', '31,000 kms', '33,000 kms', '60,000 kms', '48,000 kms', '33,000 kms', '15,000 kms', '47,000 kms', '40,000 kms', '38,000 kms', '12,500 kms', '42,000 kms', '31,000 kms', '60,000 kms', '80,000 kms', '77,000 kms', '75,000 kms', '40,000 kms', '47,000 kms', '60,000 kms', '26,500 kms', '2,875 kms', '13,900 kms', '9,000 kms', '80,000 kms', '60,000 kms', '20,000 kms', '58,000 kms', '1,500 kms', '75,000 kms', '2,450 kms', '1,625 kms', '45,000 kms', '65,000 kms', '33,400 kms', '60,123 kms', '28,000 kms', '70,000 kms', '7,000 kms', '25,000 kms', '1,00,000 kms', '42,000 kms', '1,00,000 kms', '1,37,495 kms', '91,200 kms', '55,000 kms', '1,20,000 kms', '63,000 kms', '1,04,000 kms', '1,46,000 kms', '40,000 kms', '40,000 kms', '1,00,800 kms', '1,50,000 kms', '2,100 kms', '95,000 kms', '2,500 kms', '80,000 kms', '15,000 kms', '65,000 kms', '45,000 kms', '50,000 kms', '30,000 kms', '1,32,000 kms', '27,000 kms', '40,000 kms', 'Petrol', 'Petrol']\n"
     ]
    },
    {
     "data": {
      "text/plain": [
       "(727, 6)"
      ]
     },
     "execution_count": 22,
     "metadata": {},
     "output_type": "execute_result"
    }
   ],
   "source": [
    "import re\n",
    "d=[]\n",
    "for i in df.kms_driven:\n",
    "    if re.findall(\"[a-zA-Z.]\",i):\n",
    "        d.append(i)\n",
    "print(d)\n",
    "df.shape"
   ]
  },
  {
   "cell_type": "code",
   "execution_count": 23,
   "id": "900774e1",
   "metadata": {},
   "outputs": [],
   "source": [
    "df=df.drop(df[df.kms_driven=='Petrol'].index)\n",
    "df.kms_driven=df.kms_driven.str.split().str.slice(0,1).str.join(' ').str.replace(',', '').astype(int)"
   ]
  },
  {
   "cell_type": "code",
   "execution_count": 24,
   "id": "42a19cea",
   "metadata": {},
   "outputs": [
    {
     "data": {
      "text/plain": [
       "name          0\n",
       "company       0\n",
       "year          0\n",
       "Price         0\n",
       "kms_driven    0\n",
       "fuel_type     1\n",
       "dtype: int64"
      ]
     },
     "execution_count": 24,
     "metadata": {},
     "output_type": "execute_result"
    }
   ],
   "source": [
    "df.isnull().sum()"
   ]
  },
  {
   "cell_type": "code",
   "execution_count": 25,
   "id": "267e8090",
   "metadata": {},
   "outputs": [
    {
     "data": {
      "text/html": [
       "<div>\n",
       "<style scoped>\n",
       "    .dataframe tbody tr th:only-of-type {\n",
       "        vertical-align: middle;\n",
       "    }\n",
       "\n",
       "    .dataframe tbody tr th {\n",
       "        vertical-align: top;\n",
       "    }\n",
       "\n",
       "    .dataframe thead th {\n",
       "        text-align: right;\n",
       "    }\n",
       "</style>\n",
       "<table border=\"1\" class=\"dataframe\">\n",
       "  <thead>\n",
       "    <tr style=\"text-align: right;\">\n",
       "      <th></th>\n",
       "      <th>name</th>\n",
       "      <th>company</th>\n",
       "      <th>year</th>\n",
       "      <th>Price</th>\n",
       "      <th>kms_driven</th>\n",
       "      <th>fuel_type</th>\n",
       "    </tr>\n",
       "  </thead>\n",
       "  <tbody>\n",
       "    <tr>\n",
       "      <th>0</th>\n",
       "      <td>Hyundai Santro Xing</td>\n",
       "      <td>Hyundai</td>\n",
       "      <td>15</td>\n",
       "      <td>80000</td>\n",
       "      <td>45000</td>\n",
       "      <td>Petrol</td>\n",
       "    </tr>\n",
       "    <tr>\n",
       "      <th>1</th>\n",
       "      <td>Mahindra Jeep CL550</td>\n",
       "      <td>Mahindra</td>\n",
       "      <td>16</td>\n",
       "      <td>425000</td>\n",
       "      <td>40</td>\n",
       "      <td>Diesel</td>\n",
       "    </tr>\n",
       "    <tr>\n",
       "      <th>3</th>\n",
       "      <td>Hyundai Grand i10</td>\n",
       "      <td>Hyundai</td>\n",
       "      <td>8</td>\n",
       "      <td>325000</td>\n",
       "      <td>28000</td>\n",
       "      <td>Petrol</td>\n",
       "    </tr>\n",
       "    <tr>\n",
       "      <th>4</th>\n",
       "      <td>Ford EcoSport Titanium</td>\n",
       "      <td>Ford</td>\n",
       "      <td>8</td>\n",
       "      <td>575000</td>\n",
       "      <td>36000</td>\n",
       "      <td>Diesel</td>\n",
       "    </tr>\n",
       "    <tr>\n",
       "      <th>6</th>\n",
       "      <td>Ford Figo</td>\n",
       "      <td>Ford</td>\n",
       "      <td>10</td>\n",
       "      <td>175000</td>\n",
       "      <td>41000</td>\n",
       "      <td>Diesel</td>\n",
       "    </tr>\n",
       "    <tr>\n",
       "      <th>...</th>\n",
       "      <td>...</td>\n",
       "      <td>...</td>\n",
       "      <td>...</td>\n",
       "      <td>...</td>\n",
       "      <td>...</td>\n",
       "      <td>...</td>\n",
       "    </tr>\n",
       "    <tr>\n",
       "      <th>883</th>\n",
       "      <td>Maruti Suzuki Ritz</td>\n",
       "      <td>Maruti</td>\n",
       "      <td>11</td>\n",
       "      <td>270000</td>\n",
       "      <td>50000</td>\n",
       "      <td>Petrol</td>\n",
       "    </tr>\n",
       "    <tr>\n",
       "      <th>885</th>\n",
       "      <td>Tata Indica V2</td>\n",
       "      <td>Tata</td>\n",
       "      <td>13</td>\n",
       "      <td>110000</td>\n",
       "      <td>30000</td>\n",
       "      <td>Diesel</td>\n",
       "    </tr>\n",
       "    <tr>\n",
       "      <th>886</th>\n",
       "      <td>Toyota Corolla Altis</td>\n",
       "      <td>Toyota</td>\n",
       "      <td>13</td>\n",
       "      <td>300000</td>\n",
       "      <td>132000</td>\n",
       "      <td>Petrol</td>\n",
       "    </tr>\n",
       "    <tr>\n",
       "      <th>888</th>\n",
       "      <td>Tata Zest XM</td>\n",
       "      <td>Tata</td>\n",
       "      <td>4</td>\n",
       "      <td>260000</td>\n",
       "      <td>27000</td>\n",
       "      <td>Diesel</td>\n",
       "    </tr>\n",
       "    <tr>\n",
       "      <th>889</th>\n",
       "      <td>Mahindra Quanto C8</td>\n",
       "      <td>Mahindra</td>\n",
       "      <td>9</td>\n",
       "      <td>390000</td>\n",
       "      <td>40000</td>\n",
       "      <td>Diesel</td>\n",
       "    </tr>\n",
       "  </tbody>\n",
       "</table>\n",
       "<p>724 rows × 6 columns</p>\n",
       "</div>"
      ],
      "text/plain": [
       "                       name   company  year   Price  kms_driven fuel_type\n",
       "0       Hyundai Santro Xing   Hyundai    15   80000       45000    Petrol\n",
       "1       Mahindra Jeep CL550  Mahindra    16  425000          40    Diesel\n",
       "3         Hyundai Grand i10   Hyundai     8  325000       28000    Petrol\n",
       "4    Ford EcoSport Titanium      Ford     8  575000       36000    Diesel\n",
       "6                 Ford Figo      Ford    10  175000       41000    Diesel\n",
       "..                      ...       ...   ...     ...         ...       ...\n",
       "883      Maruti Suzuki Ritz    Maruti    11  270000       50000    Petrol\n",
       "885          Tata Indica V2      Tata    13  110000       30000    Diesel\n",
       "886    Toyota Corolla Altis    Toyota    13  300000      132000    Petrol\n",
       "888            Tata Zest XM      Tata     4  260000       27000    Diesel\n",
       "889      Mahindra Quanto C8  Mahindra     9  390000       40000    Diesel\n",
       "\n",
       "[724 rows x 6 columns]"
      ]
     },
     "execution_count": 25,
     "metadata": {},
     "output_type": "execute_result"
    }
   ],
   "source": [
    "df.dropna(subset = ['fuel_type'])"
   ]
  },
  {
   "cell_type": "code",
   "execution_count": 26,
   "id": "66e43158",
   "metadata": {},
   "outputs": [
    {
     "name": "stdout",
     "output_type": "stream",
     "text": [
      "<class 'pandas.core.frame.DataFrame'>\n",
      "Int64Index: 725 entries, 0 to 889\n",
      "Data columns (total 6 columns):\n",
      " #   Column      Non-Null Count  Dtype \n",
      "---  ------      --------------  ----- \n",
      " 0   name        725 non-null    object\n",
      " 1   company     725 non-null    object\n",
      " 2   year        725 non-null    int32 \n",
      " 3   Price       725 non-null    int32 \n",
      " 4   kms_driven  725 non-null    int32 \n",
      " 5   fuel_type   724 non-null    object\n",
      "dtypes: int32(3), object(3)\n",
      "memory usage: 31.2+ KB\n"
     ]
    }
   ],
   "source": [
    "df.info()"
   ]
  },
  {
   "cell_type": "code",
   "execution_count": 27,
   "id": "e32938a8",
   "metadata": {},
   "outputs": [
    {
     "data": {
      "text/html": [
       "<div>\n",
       "<style scoped>\n",
       "    .dataframe tbody tr th:only-of-type {\n",
       "        vertical-align: middle;\n",
       "    }\n",
       "\n",
       "    .dataframe tbody tr th {\n",
       "        vertical-align: top;\n",
       "    }\n",
       "\n",
       "    .dataframe thead th {\n",
       "        text-align: right;\n",
       "    }\n",
       "</style>\n",
       "<table border=\"1\" class=\"dataframe\">\n",
       "  <thead>\n",
       "    <tr style=\"text-align: right;\">\n",
       "      <th></th>\n",
       "      <th>name</th>\n",
       "      <th>company</th>\n",
       "      <th>year</th>\n",
       "      <th>Price</th>\n",
       "      <th>kms_driven</th>\n",
       "      <th>fuel_type</th>\n",
       "    </tr>\n",
       "  </thead>\n",
       "  <tbody>\n",
       "    <tr>\n",
       "      <th>0</th>\n",
       "      <td>Hyundai Santro Xing</td>\n",
       "      <td>Hyundai</td>\n",
       "      <td>15</td>\n",
       "      <td>80000</td>\n",
       "      <td>45000</td>\n",
       "      <td>Petrol</td>\n",
       "    </tr>\n",
       "    <tr>\n",
       "      <th>1</th>\n",
       "      <td>Mahindra Jeep CL550</td>\n",
       "      <td>Mahindra</td>\n",
       "      <td>16</td>\n",
       "      <td>425000</td>\n",
       "      <td>40</td>\n",
       "      <td>Diesel</td>\n",
       "    </tr>\n",
       "    <tr>\n",
       "      <th>2</th>\n",
       "      <td>Hyundai Grand i10</td>\n",
       "      <td>Hyundai</td>\n",
       "      <td>8</td>\n",
       "      <td>325000</td>\n",
       "      <td>28000</td>\n",
       "      <td>Petrol</td>\n",
       "    </tr>\n",
       "    <tr>\n",
       "      <th>3</th>\n",
       "      <td>Ford EcoSport Titanium</td>\n",
       "      <td>Ford</td>\n",
       "      <td>8</td>\n",
       "      <td>575000</td>\n",
       "      <td>36000</td>\n",
       "      <td>Diesel</td>\n",
       "    </tr>\n",
       "    <tr>\n",
       "      <th>4</th>\n",
       "      <td>Ford Figo</td>\n",
       "      <td>Ford</td>\n",
       "      <td>10</td>\n",
       "      <td>175000</td>\n",
       "      <td>41000</td>\n",
       "      <td>Diesel</td>\n",
       "    </tr>\n",
       "    <tr>\n",
       "      <th>...</th>\n",
       "      <td>...</td>\n",
       "      <td>...</td>\n",
       "      <td>...</td>\n",
       "      <td>...</td>\n",
       "      <td>...</td>\n",
       "      <td>...</td>\n",
       "    </tr>\n",
       "    <tr>\n",
       "      <th>720</th>\n",
       "      <td>Maruti Suzuki Ritz</td>\n",
       "      <td>Maruti</td>\n",
       "      <td>11</td>\n",
       "      <td>270000</td>\n",
       "      <td>50000</td>\n",
       "      <td>Petrol</td>\n",
       "    </tr>\n",
       "    <tr>\n",
       "      <th>721</th>\n",
       "      <td>Tata Indica V2</td>\n",
       "      <td>Tata</td>\n",
       "      <td>13</td>\n",
       "      <td>110000</td>\n",
       "      <td>30000</td>\n",
       "      <td>Diesel</td>\n",
       "    </tr>\n",
       "    <tr>\n",
       "      <th>722</th>\n",
       "      <td>Toyota Corolla Altis</td>\n",
       "      <td>Toyota</td>\n",
       "      <td>13</td>\n",
       "      <td>300000</td>\n",
       "      <td>132000</td>\n",
       "      <td>Petrol</td>\n",
       "    </tr>\n",
       "    <tr>\n",
       "      <th>723</th>\n",
       "      <td>Tata Zest XM</td>\n",
       "      <td>Tata</td>\n",
       "      <td>4</td>\n",
       "      <td>260000</td>\n",
       "      <td>27000</td>\n",
       "      <td>Diesel</td>\n",
       "    </tr>\n",
       "    <tr>\n",
       "      <th>724</th>\n",
       "      <td>Mahindra Quanto C8</td>\n",
       "      <td>Mahindra</td>\n",
       "      <td>9</td>\n",
       "      <td>390000</td>\n",
       "      <td>40000</td>\n",
       "      <td>Diesel</td>\n",
       "    </tr>\n",
       "  </tbody>\n",
       "</table>\n",
       "<p>725 rows × 6 columns</p>\n",
       "</div>"
      ],
      "text/plain": [
       "                       name   company  year   Price  kms_driven fuel_type\n",
       "0       Hyundai Santro Xing   Hyundai    15   80000       45000    Petrol\n",
       "1       Mahindra Jeep CL550  Mahindra    16  425000          40    Diesel\n",
       "2         Hyundai Grand i10   Hyundai     8  325000       28000    Petrol\n",
       "3    Ford EcoSport Titanium      Ford     8  575000       36000    Diesel\n",
       "4                 Ford Figo      Ford    10  175000       41000    Diesel\n",
       "..                      ...       ...   ...     ...         ...       ...\n",
       "720      Maruti Suzuki Ritz    Maruti    11  270000       50000    Petrol\n",
       "721          Tata Indica V2      Tata    13  110000       30000    Diesel\n",
       "722    Toyota Corolla Altis    Toyota    13  300000      132000    Petrol\n",
       "723            Tata Zest XM      Tata     4  260000       27000    Diesel\n",
       "724      Mahindra Quanto C8  Mahindra     9  390000       40000    Diesel\n",
       "\n",
       "[725 rows x 6 columns]"
      ]
     },
     "execution_count": 27,
     "metadata": {},
     "output_type": "execute_result"
    }
   ],
   "source": [
    "df = df.reset_index(drop=True)\n",
    "df"
   ]
  },
  {
   "cell_type": "code",
   "execution_count": 28,
   "id": "56599c88",
   "metadata": {},
   "outputs": [
    {
     "data": {
      "image/png": "[encoded data removed]",
      "text/plain": [
       "<Figure size 432x288 with 1 Axes>"
      ]
     },
     "metadata": {
      "needs_background": "light"
     },
     "output_type": "display_data"
    }
   ],
   "source": [
    "bp =plt.boxplot(df.Price)\n",
    "plt.show()"
   ]
  },
  {
   "cell_type": "code",
   "execution_count": 29,
   "id": "e71cb7bb",
   "metadata": {},
   "outputs": [
    {
     "name": "stdout",
     "output_type": "stream",
     "text": [
      "-1036888.0581406293\n",
      "1843024.405726836\n"
     ]
    },
    {
     "data": {
      "text/plain": [
       "(725, 6)"
      ]
     },
     "execution_count": 29,
     "metadata": {},
     "output_type": "execute_result"
    }
   ],
   "source": [
    "lower_limit = df.Price.mean() - 3*df.Price.std()\n",
    "upper_limit = df.Price.mean() + 3*df.Price.std()\n",
    "print(lower_limit)\n",
    "print(upper_limit)\n",
    "df.shape"
   ]
  },
  {
   "cell_type": "code",
   "execution_count": 30,
   "id": "3150476f",
   "metadata": {},
   "outputs": [
    {
     "data": {
      "text/plain": [
       "(712, 6)"
      ]
     },
     "execution_count": 30,
     "metadata": {},
     "output_type": "execute_result"
    }
   ],
   "source": [
    "df=df[(df['Price']>lower_limit)&(df['Price']<upper_limit)]\n",
    "df.shape"
   ]
  },
  {
   "cell_type": "code",
   "execution_count": 31,
   "id": "ba90bdd6",
   "metadata": {},
   "outputs": [
    {
     "data": {
      "image/png": "[encoded data removed]",
      "text/plain": [
       "<Figure size 432x288 with 1 Axes>"
      ]
     },
     "metadata": {
      "needs_background": "light"
     },
     "output_type": "display_data"
    }
   ],
   "source": [
    "bp =plt.boxplot(df.Price)\n",
    "plt.show()"
   ]
  },
  {
   "cell_type": "code",
   "execution_count": 32,
   "id": "ceadea16",
   "metadata": {},
   "outputs": [
    {
     "data": {
      "text/plain": [
       "array(['Hyundai', 'Mahindra', 'Ford', 'Maruti', 'Skoda', 'Audi', 'Toyota',\n",
       "       'Renault', 'Honda', 'Datsun', 'Mitsubishi', 'Tata', 'Volkswagen',\n",
       "       'Chevrolet', 'BMW', 'Nissan', 'Hindustan', 'Fiat', 'Force',\n",
       "       'Mercedes', 'Jeep'], dtype=object)"
      ]
     },
     "execution_count": 32,
     "metadata": {},
     "output_type": "execute_result"
    }
   ],
   "source": [
    "df.company.unique()"
   ]
  },
  {
   "cell_type": "code",
   "execution_count": 33,
   "id": "9a9bbb99",
   "metadata": {},
   "outputs": [],
   "source": [
    "x = df.drop(['Price'], axis=1)\n",
    "y= df.Price"
   ]
  },
  {
   "cell_type": "code",
   "execution_count": 34,
   "id": "2696b575",
   "metadata": {},
   "outputs": [
    {
     "data": {
      "text/html": [
       "<div>\n",
       "<style scoped>\n",
       "    .dataframe tbody tr th:only-of-type {\n",
       "        vertical-align: middle;\n",
       "    }\n",
       "\n",
       "    .dataframe tbody tr th {\n",
       "        vertical-align: top;\n",
       "    }\n",
       "\n",
       "    .dataframe thead th {\n",
       "        text-align: right;\n",
       "    }\n",
       "</style>\n",
       "<table border=\"1\" class=\"dataframe\">\n",
       "  <thead>\n",
       "    <tr style=\"text-align: right;\">\n",
       "      <th></th>\n",
       "      <th>name</th>\n",
       "      <th>company</th>\n",
       "      <th>year</th>\n",
       "      <th>Price</th>\n",
       "      <th>kms_driven</th>\n",
       "      <th>fuel_type</th>\n",
       "    </tr>\n",
       "  </thead>\n",
       "  <tbody>\n",
       "    <tr>\n",
       "      <th>0</th>\n",
       "      <td>Hyundai Santro Xing</td>\n",
       "      <td>Hyundai</td>\n",
       "      <td>15</td>\n",
       "      <td>80000</td>\n",
       "      <td>45000</td>\n",
       "      <td>Petrol</td>\n",
       "    </tr>\n",
       "    <tr>\n",
       "      <th>1</th>\n",
       "      <td>Mahindra Jeep CL550</td>\n",
       "      <td>Mahindra</td>\n",
       "      <td>16</td>\n",
       "      <td>425000</td>\n",
       "      <td>40</td>\n",
       "      <td>Diesel</td>\n",
       "    </tr>\n",
       "    <tr>\n",
       "      <th>2</th>\n",
       "      <td>Hyundai Grand i10</td>\n",
       "      <td>Hyundai</td>\n",
       "      <td>8</td>\n",
       "      <td>325000</td>\n",
       "      <td>28000</td>\n",
       "      <td>Petrol</td>\n",
       "    </tr>\n",
       "    <tr>\n",
       "      <th>3</th>\n",
       "      <td>Ford EcoSport Titanium</td>\n",
       "      <td>Ford</td>\n",
       "      <td>8</td>\n",
       "      <td>575000</td>\n",
       "      <td>36000</td>\n",
       "      <td>Diesel</td>\n",
       "    </tr>\n",
       "    <tr>\n",
       "      <th>4</th>\n",
       "      <td>Ford Figo</td>\n",
       "      <td>Ford</td>\n",
       "      <td>10</td>\n",
       "      <td>175000</td>\n",
       "      <td>41000</td>\n",
       "      <td>Diesel</td>\n",
       "    </tr>\n",
       "    <tr>\n",
       "      <th>...</th>\n",
       "      <td>...</td>\n",
       "      <td>...</td>\n",
       "      <td>...</td>\n",
       "      <td>...</td>\n",
       "      <td>...</td>\n",
       "      <td>...</td>\n",
       "    </tr>\n",
       "    <tr>\n",
       "      <th>720</th>\n",
       "      <td>Maruti Suzuki Ritz</td>\n",
       "      <td>Maruti</td>\n",
       "      <td>11</td>\n",
       "      <td>270000</td>\n",
       "      <td>50000</td>\n",
       "      <td>Petrol</td>\n",
       "    </tr>\n",
       "    <tr>\n",
       "      <th>721</th>\n",
       "      <td>Tata Indica V2</td>\n",
       "      <td>Tata</td>\n",
       "      <td>13</td>\n",
       "      <td>110000</td>\n",
       "      <td>30000</td>\n",
       "      <td>Diesel</td>\n",
       "    </tr>\n",
       "    <tr>\n",
       "      <th>722</th>\n",
       "      <td>Toyota Corolla Altis</td>\n",
       "      <td>Toyota</td>\n",
       "      <td>13</td>\n",
       "      <td>300000</td>\n",
       "      <td>132000</td>\n",
       "      <td>Petrol</td>\n",
       "    </tr>\n",
       "    <tr>\n",
       "      <th>723</th>\n",
       "      <td>Tata Zest XM</td>\n",
       "      <td>Tata</td>\n",
       "      <td>4</td>\n",
       "      <td>260000</td>\n",
       "      <td>27000</td>\n",
       "      <td>Diesel</td>\n",
       "    </tr>\n",
       "    <tr>\n",
       "      <th>724</th>\n",
       "      <td>Mahindra Quanto C8</td>\n",
       "      <td>Mahindra</td>\n",
       "      <td>9</td>\n",
       "      <td>390000</td>\n",
       "      <td>40000</td>\n",
       "      <td>Diesel</td>\n",
       "    </tr>\n",
       "  </tbody>\n",
       "</table>\n",
       "<p>712 rows × 6 columns</p>\n",
       "</div>"
      ],
      "text/plain": [
       "                       name   company  year   Price  kms_driven fuel_type\n",
       "0       Hyundai Santro Xing   Hyundai    15   80000       45000    Petrol\n",
       "1       Mahindra Jeep CL550  Mahindra    16  425000          40    Diesel\n",
       "2         Hyundai Grand i10   Hyundai     8  325000       28000    Petrol\n",
       "3    Ford EcoSport Titanium      Ford     8  575000       36000    Diesel\n",
       "4                 Ford Figo      Ford    10  175000       41000    Diesel\n",
       "..                      ...       ...   ...     ...         ...       ...\n",
       "720      Maruti Suzuki Ritz    Maruti    11  270000       50000    Petrol\n",
       "721          Tata Indica V2      Tata    13  110000       30000    Diesel\n",
       "722    Toyota Corolla Altis    Toyota    13  300000      132000    Petrol\n",
       "723            Tata Zest XM      Tata     4  260000       27000    Diesel\n",
       "724      Mahindra Quanto C8  Mahindra     9  390000       40000    Diesel\n",
       "\n",
       "[712 rows x 6 columns]"
      ]
     },
     "execution_count": 34,
     "metadata": {},
     "output_type": "execute_result"
    }
   ],
   "source": [
    "df"
   ]
  },
  {
   "cell_type": "code",
   "execution_count": 35,
   "id": "eae4ff5d",
   "metadata": {},
   "outputs": [],
   "source": [
    "from sklearn.model_selection import train_test_split\n",
    "x_train,x_test,y_train,y_test = train_test_split(x, y, test_size=0.2)"
   ]
  },
  {
   "cell_type": "code",
   "execution_count": 36,
   "id": "f44448e6",
   "metadata": {},
   "outputs": [],
   "source": [
    "\n",
    "from sklearn.model_selection import train_test_split\n",
    "from sklearn.compose import ColumnTransformer\n",
    "from sklearn.impute import SimpleImputer\n",
    "from sklearn.preprocessing import OneHotEncoder\n",
    "from sklearn.preprocessing import MinMaxScaler\n",
    "from sklearn.pipeline import Pipeline,make_pipeline\n",
    "from sklearn.feature_selection import SelectKBest,chi2\n",
    "from sklearn.tree import DecisionTreeClassifier\n",
    "from sklearn.preprocessing import StandardScaler\n",
    "from sklearn.linear_model import LinearRegression\n",
    "from sklearn.linear_model import LogisticRegression"
   ]
  },
  {
   "cell_type": "markdown",
   "id": "d9cc3cc2",
   "metadata": {},
   "source": [
    "# LinearRegression"
   ]
  },
  {
   "cell_type": "code",
   "execution_count": 37,
   "id": "39ded85d",
   "metadata": {},
   "outputs": [
    {
     "data": {
      "text/plain": [
       "OneHotEncoder()"
      ]
     },
     "execution_count": 37,
     "metadata": {},
     "output_type": "execute_result"
    }
   ],
   "source": [
    "ohe=OneHotEncoder()\n",
    "ohe.fit(x[['name','company','fuel_type']])"
   ]
  },
  {
   "cell_type": "markdown",
   "id": "90dd22da",
   "metadata": {},
   "source": [
    "ohe.categories_"
   ]
  },
  {
   "cell_type": "code",
   "execution_count": 38,
   "id": "5c3dbc71",
   "metadata": {},
   "outputs": [],
   "source": [
    "column_trans=make_column_transformer((OneHotEncoder(categories=ohe.categories_),['name','company','fuel_type']),\n",
    "                                     remainder='passthrough')"
   ]
  },
  {
   "cell_type": "code",
   "execution_count": 39,
   "id": "6590bb65",
   "metadata": {},
   "outputs": [],
   "source": [
    "lr=LinearRegression()"
   ]
  },
  {
   "cell_type": "code",
   "execution_count": 40,
   "id": "725d25bb",
   "metadata": {},
   "outputs": [
    {
     "data": {
      "text/plain": [
       "Pipeline(steps=[('columntransformer',\n",
       "                 ColumnTransformer(remainder='passthrough',\n",
       "                                   transformers=[('onehotencoder',\n",
       "                                                  OneHotEncoder(categories=[array(['Audi A4 1.8', 'Audi A4 2.0', 'Audi A6 2.0', 'Audi A8',\n",
       "       'Audi Q3 2.0', 'Audi Q7', 'BMW 3 Series', 'BMW 5 Series',\n",
       "       'BMW 7 Series', 'BMW X1', 'BMW X1 sDrive20d', 'BMW X1 xDrive20d',\n",
       "       'Chevrolet Beat', 'Chevrolet Beat Diesel', 'Chevrolet Beat LS',\n",
       "       'Che...\n",
       "       'Volkswagen Vento Konekt'], dtype=object),\n",
       "                                                                            array(['Audi', 'BMW', 'Chevrolet', 'Datsun', 'Fiat', 'Force', 'Ford',\n",
       "       'Hindustan', 'Honda', 'Hyundai', 'Jeep', 'Mahindra', 'Maruti',\n",
       "       'Mercedes', 'Mitsubishi', 'Nissan', 'Renault', 'Skoda', 'Tata',\n",
       "       'Toyota', 'Volkswagen'], dtype=object),\n",
       "                                                                            array(['Diesel', 'LPG', 'Petrol', nan], dtype=object)]),\n",
       "                                                  ['name', 'company',\n",
       "                                                   'fuel_type'])])),\n",
       "                ('linearregression', LinearRegression())])"
      ]
     },
     "execution_count": 40,
     "metadata": {},
     "output_type": "execute_result"
    }
   ],
   "source": [
    "pipe=make_pipeline(column_trans,lr)\n",
    "pipe.fit(x_train,y_train)"
   ]
  },
  {
   "cell_type": "code",
   "execution_count": 41,
   "id": "d32d4808",
   "metadata": {},
   "outputs": [],
   "source": [
    "y_pred=pipe.predict(x_test)\n"
   ]
  },
  {
   "cell_type": "code",
   "execution_count": 42,
   "id": "23d1fd5d",
   "metadata": {},
   "outputs": [
    {
     "data": {
      "text/plain": [
       "0.8268175271097886"
      ]
     },
     "execution_count": 42,
     "metadata": {},
     "output_type": "execute_result"
    }
   ],
   "source": [
    "r2_score(y_test,y_pred)"
   ]
  },
  {
   "cell_type": "code",
   "execution_count": 43,
   "id": "b79841b6",
   "metadata": {},
   "outputs": [
    {
     "data": {
      "text/plain": [
       "(143, 5)"
      ]
     },
     "execution_count": 43,
     "metadata": {},
     "output_type": "execute_result"
    }
   ],
   "source": [
    "x_test.shape"
   ]
  },
  {
   "cell_type": "code",
   "execution_count": 44,
   "id": "5902d7ca",
   "metadata": {},
   "outputs": [
    {
     "data": {
      "text/plain": [
       "0.562548704886508"
      ]
     },
     "execution_count": 44,
     "metadata": {},
     "output_type": "execute_result"
    }
   ],
   "source": [
    "1 - ((1-0.5779519195031803)*(143-1)/(143-1-5))  #adjusted r2 score"
   ]
  },
  {
   "cell_type": "markdown",
   "id": "06133c62",
   "metadata": {},
   "source": [
    "# changing random state to obtain best accuracy"
   ]
  },
  {
   "cell_type": "code",
   "execution_count": 45,
   "id": "34915d6f",
   "metadata": {},
   "outputs": [],
   "source": [
    "from sklearn.model_selection import train_test_split\n",
    "x_train,x_test,y_train,y_test = train_test_split(x, y, test_size=0.2)"
   ]
  },
  {
   "cell_type": "code",
   "execution_count": 46,
   "id": "0133f905",
   "metadata": {},
   "outputs": [],
   "source": [
    "scores=[]\n",
    "for i in range(1000):\n",
    "    x_train,x_test,y_train,y_test=train_test_split(x,y, test_size=0.2,random_state=i)\n",
    "    lr=LinearRegression()\n",
    "    pipe=make_pipeline(column_trans,lr)\n",
    "    pipe.fit(x_train,y_train)\n",
    "    y_pred=pipe.predict(x_test)\n",
    "    scores.append(r2_score(y_test,y_pred))"
   ]
  },
  {
   "cell_type": "code",
   "execution_count": 47,
   "id": "fac88d14",
   "metadata": {},
   "outputs": [
    {
     "data": {
      "text/plain": [
       "600"
      ]
     },
     "execution_count": 47,
     "metadata": {},
     "output_type": "execute_result"
    }
   ],
   "source": [
    "np.argmax(scores)"
   ]
  },
  {
   "cell_type": "code",
   "execution_count": 48,
   "id": "cdb9bba7",
   "metadata": {},
   "outputs": [
    {
     "data": {
      "text/plain": [
       "0.8354338008528072"
      ]
     },
     "execution_count": 48,
     "metadata": {},
     "output_type": "execute_result"
    }
   ],
   "source": [
    "x_train,x_test,y_train,y_test=train_test_split(x,y, test_size=0.2,random_state=600)\n",
    "lr=LinearRegression()\n",
    "pipe=make_pipeline(column_trans,lr)\n",
    "pipe.fit(x_train,y_train)\n",
    "y_pred=pipe.predict(x_test)\n",
    "r2_score(y_test,y_pred)"
   ]
  },
  {
   "cell_type": "code",
   "execution_count": 49,
   "id": "f41bd13d",
   "metadata": {},
   "outputs": [
    {
     "data": {
      "text/plain": [
       "(143, 5)"
      ]
     },
     "execution_count": 49,
     "metadata": {},
     "output_type": "execute_result"
    }
   ],
   "source": [
    "x_test.shape"
   ]
  },
  {
   "cell_type": "code",
   "execution_count": 50,
   "id": "df432ae6",
   "metadata": {},
   "outputs": [
    {
     "data": {
      "text/plain": [
       "0.7905409926550253"
      ]
     },
     "execution_count": 50,
     "metadata": {},
     "output_type": "execute_result"
    }
   ],
   "source": [
    "adjusted_r2=1 - ((1-0.7979163098150597)*(143-1)/(143-1-5))\n",
    "adjusted_r2"
   ]
  },
  {
   "cell_type": "code",
   "execution_count": null,
   "id": "e0155648",
   "metadata": {},
   "outputs": [],
   "source": []
  },
  {
   "cell_type": "code",
   "execution_count": null,
   "id": "37b107b5",
   "metadata": {},
   "outputs": [],
   "source": []
  },
  {
   "cell_type": "code",
   "execution_count": null,
   "id": "354a30d6",
   "metadata": {},
   "outputs": [],
   "source": []
  },
  {
   "cell_type": "markdown",
   "id": "490cd73e",
   "metadata": {},
   "source": [
    "# Random Forest "
   ]
  },
  {
   "cell_type": "code",
   "execution_count": 51,
   "id": "d92926b2",
   "metadata": {},
   "outputs": [],
   "source": [
    "from sklearn.model_selection import train_test_split\n",
    "x_train,x_test,y_train,y_test = train_test_split(x, y, test_size=0.2)"
   ]
  },
  {
   "cell_type": "code",
   "execution_count": 52,
   "id": "ac66c732",
   "metadata": {},
   "outputs": [],
   "source": [
    "numeric_processor=Pipeline(\n",
    "    steps=[\n",
    "          (\"scaler\",StandardScaler())]\n",
    "\n",
    ")"
   ]
  },
  {
   "cell_type": "code",
   "execution_count": 53,
   "id": "f8b5e952",
   "metadata": {},
   "outputs": [],
   "source": [
    "categorical_processor=Pipeline(\n",
    "    steps=[\n",
    "          (\"onehot\",OneHotEncoder(handle_unknown=\"ignore\"))]\n",
    "\n",
    ")"
   ]
  },
  {
   "cell_type": "code",
   "execution_count": 54,
   "id": "28f162c4",
   "metadata": {},
   "outputs": [],
   "source": [
    "\n",
    "preprocessor=ColumnTransformer(\n",
    "    [(\"categorical\",categorical_processor,[\"name\",\"company\",\"fuel_type\"]),\n",
    "    (\"numerical\",numeric_processor,[\"year\",\"kms_driven\"])]\n",
    ")\n"
   ]
  },
  {
   "cell_type": "code",
   "execution_count": 55,
   "id": "88fd9748",
   "metadata": {},
   "outputs": [],
   "source": [
    "from sklearn.ensemble import RandomForestClassifier\n",
    "pipe=make_pipeline(preprocessor,RandomForestClassifier())"
   ]
  },
  {
   "cell_type": "code",
   "execution_count": 56,
   "id": "5cd95425",
   "metadata": {},
   "outputs": [
    {
     "data": {
      "text/plain": [
       "Pipeline(steps=[('columntransformer',\n",
       "                 ColumnTransformer(transformers=[('categorical',\n",
       "                                                  Pipeline(steps=[('onehot',\n",
       "                                                                   OneHotEncoder(handle_unknown='ignore'))]),\n",
       "                                                  ['name', 'company',\n",
       "                                                   'fuel_type']),\n",
       "                                                 ('numerical',\n",
       "                                                  Pipeline(steps=[('scaler',\n",
       "                                                                   StandardScaler())]),\n",
       "                                                  ['year', 'kms_driven'])])),\n",
       "                ('randomforestclassifier', RandomForestClassifier())])"
      ]
     },
     "execution_count": 56,
     "metadata": {},
     "output_type": "execute_result"
    }
   ],
   "source": [
    "pipe.fit(x_train,y_train)"
   ]
  },
  {
   "cell_type": "code",
   "execution_count": 57,
   "id": "d0add37b",
   "metadata": {},
   "outputs": [],
   "source": [
    "y_pred = pipe.predict(x_test)"
   ]
  },
  {
   "cell_type": "code",
   "execution_count": 58,
   "id": "e41345d6",
   "metadata": {},
   "outputs": [
    {
     "data": {
      "text/plain": [
       "0.9990685270491543"
      ]
     },
     "execution_count": 58,
     "metadata": {},
     "output_type": "execute_result"
    }
   ],
   "source": [
    "r2_score(y_test,y_pred)"
   ]
  },
  {
   "cell_type": "code",
   "execution_count": 59,
   "id": "bbfe86eb",
   "metadata": {},
   "outputs": [
    {
     "data": {
      "text/plain": [
       "0.9985381879418681"
      ]
     },
     "execution_count": 59,
     "metadata": {},
     "output_type": "execute_result"
    }
   ],
   "source": [
    "adjusted_r2=1 - ((1-0.9985896601974361)*(143-1)/(143-1-5)) \n",
    "adjusted_r2"
   ]
  },
  {
   "cell_type": "code",
   "execution_count": null,
   "id": "0036e44c",
   "metadata": {},
   "outputs": [],
   "source": []
  }
 ],
 "metadata": {
  "kernelspec": {
   "display_name": "Python 3 (ipykernel)",
   "language": "python",
   "name": "python3"
  },
  "language_info": {
   "codemirror_mode": {
    "name": "ipython",
    "version": 3
   },
   "file_extension": ".py",
   "mimetype": "text/x-python",
   "name": "python",
   "nbconvert_exporter": "python",
   "pygments_lexer": "ipython3",
   "version": "3.9.12"
  }
 },
 "nbformat": 4,
 "nbformat_minor": 5
}
